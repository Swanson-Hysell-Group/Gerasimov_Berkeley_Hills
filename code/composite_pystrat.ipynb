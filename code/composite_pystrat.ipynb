{
 "cells": [
  {
   "cell_type": "markdown",
   "metadata": {},
   "source": [
    "## Gerasimov et al. pystrat \n",
    "\n",
    "This notebook plots a stratigraphic section of the Berkeley Hills at Highway 24 using the github package \"pystrat\" developed by Yuem Park.\n",
    "\n",
    "The thickness of each formation was determined through a combination of methods and data sources. The Great Valley Group basement complex was approximated using Graymer, 2000 map data and trigonometry. In Graymer's map the Great Valley Group is faulted into the Sobrante Formation. We did not follow this interpretation to determine stratigraphic thickness and instead referred to Caldecott Tunnel data (Page, 1950; Geotechnical Baseline Report, 2009; Poust, 2017). Based on this data the Great Valley Group is not interpreted to be faulted into the Sobrante Fm. The thickness of the Sobrante Fm and Claremont Fm was entirely approximated using Caldecott Tunnel bore hole data. The Orinda Fm was approximated using a combination of Caldecott Tunnel bore hole data and measured sections begining 4 meters above the fourth tunnel entrance on the eastern side. The Moraga Fm was measured from the contact with the Orinda Fm until the 10 meter Moraga Tuff. The rest of the Moraga Fm, as well as the Siesta Fm and Bald Peak Fm were approximated using trigonometry calculations. "
   ]
  },
  {
   "cell_type": "markdown",
   "metadata": {},
   "source": [
    "## Install pystrat\n",
    "If you do not have pystrat installed, running the code cell below will install it:"
   ]
  },
  {
   "cell_type": "code",
   "execution_count": 1,
   "metadata": {},
   "outputs": [
    {
     "name": "stdout",
     "output_type": "stream",
     "text": [
      "Requirement already satisfied: pystrat in /Users/staceygerasimov/opt/anaconda3/lib/python3.8/site-packages (1.0.0)\n"
     ]
    }
   ],
   "source": [
    "!pip install pystrat"
   ]
  },
  {
   "cell_type": "markdown",
   "metadata": {},
   "source": [
    "## Import pystrat and other scientific python packages"
   ]
  },
  {
   "cell_type": "code",
   "execution_count": 2,
   "metadata": {},
   "outputs": [],
   "source": [
    "# standard modules\n",
    "import pandas as pd\n",
    "import numpy as np\n",
    "import matplotlib.pyplot as plt\n",
    "\n",
    "# pystrat\n",
    "from pystrat import pystrat"
   ]
  },
  {
   "cell_type": "markdown",
   "metadata": {},
   "source": [
    "## Plot Stratigraphic Section and Geochronology Samples"
   ]
  },
  {
   "cell_type": "code",
   "execution_count": 27,
   "metadata": {},
   "outputs": [
    {
     "data": {
      "text/html": [
       "<div>\n",
       "<style scoped>\n",
       "    .dataframe tbody tr th:only-of-type {\n",
       "        vertical-align: middle;\n",
       "    }\n",
       "\n",
       "    .dataframe tbody tr th {\n",
       "        vertical-align: top;\n",
       "    }\n",
       "\n",
       "    .dataframe thead th {\n",
       "        text-align: right;\n",
       "    }\n",
       "</style>\n",
       "<table border=\"1\" class=\"dataframe\">\n",
       "  <thead>\n",
       "    <tr style=\"text-align: right;\">\n",
       "      <th></th>\n",
       "      <th>COLOR</th>\n",
       "      <th>r</th>\n",
       "      <th>g</th>\n",
       "      <th>b</th>\n",
       "    </tr>\n",
       "  </thead>\n",
       "  <tbody>\n",
       "    <tr>\n",
       "      <th>0</th>\n",
       "      <td>Great Valley Group</td>\n",
       "      <td>148</td>\n",
       "      <td>204</td>\n",
       "      <td>202</td>\n",
       "    </tr>\n",
       "    <tr>\n",
       "      <th>1</th>\n",
       "      <td>Sobrante</td>\n",
       "      <td>138</td>\n",
       "      <td>104</td>\n",
       "      <td>83</td>\n",
       "    </tr>\n",
       "    <tr>\n",
       "      <th>2</th>\n",
       "      <td>Claremont</td>\n",
       "      <td>190</td>\n",
       "      <td>146</td>\n",
       "      <td>118</td>\n",
       "    </tr>\n",
       "    <tr>\n",
       "      <th>3</th>\n",
       "      <td>Orinda</td>\n",
       "      <td>246</td>\n",
       "      <td>201</td>\n",
       "      <td>142</td>\n",
       "    </tr>\n",
       "    <tr>\n",
       "      <th>4</th>\n",
       "      <td>Moraga</td>\n",
       "      <td>208</td>\n",
       "      <td>172</td>\n",
       "      <td>128</td>\n",
       "    </tr>\n",
       "  </tbody>\n",
       "</table>\n",
       "</div>"
      ],
      "text/plain": [
       "                COLOR    r    g    b\n",
       "0  Great Valley Group  148  204  202\n",
       "1            Sobrante  138  104   83\n",
       "2           Claremont  190  146  118\n",
       "3              Orinda  246  201  142\n",
       "4              Moraga  208  172  128"
      ]
     },
     "execution_count": 27,
     "metadata": {},
     "output_type": "execute_result"
    }
   ],
   "source": [
    "color_style.head()"
   ]
  },
  {
   "cell_type": "code",
   "execution_count": 36,
   "metadata": {},
   "outputs": [
    {
     "ename": "UnboundLocalError",
     "evalue": "local variable 'this_color' referenced before assignment",
     "output_type": "error",
     "traceback": [
      "\u001b[0;31m---------------------------------------------------------------------------\u001b[0m",
      "\u001b[0;31mUnboundLocalError\u001b[0m                         Traceback (most recent call last)",
      "\u001b[0;32m<ipython-input-36-24d5c6660db5>\u001b[0m in \u001b[0;36m<module>\u001b[0;34m\u001b[0m\n\u001b[1;32m     21\u001b[0m \u001b[0;34m\u001b[0m\u001b[0m\n\u001b[1;32m     22\u001b[0m \u001b[0;31m# plot the Section using the Style\u001b[0m\u001b[0;34m\u001b[0m\u001b[0;34m\u001b[0m\u001b[0;34m\u001b[0m\u001b[0m\n\u001b[0;32m---> 23\u001b[0;31m \u001b[0mfig\u001b[0m\u001b[0;34m,\u001b[0m \u001b[0max\u001b[0m \u001b[0;34m=\u001b[0m \u001b[0mpystrat\u001b[0m\u001b[0;34m.\u001b[0m\u001b[0mplot_stratigraphy\u001b[0m\u001b[0;34m(\u001b[0m\u001b[0msection_01\u001b[0m\u001b[0;34m,\u001b[0m \u001b[0mstyle_01\u001b[0m\u001b[0;34m)\u001b[0m\u001b[0;34m\u001b[0m\u001b[0;34m\u001b[0m\u001b[0m\n\u001b[0m\u001b[1;32m     24\u001b[0m \u001b[0mfig\u001b[0m\u001b[0;34m,\u001b[0m \u001b[0max\u001b[0m \u001b[0;34m=\u001b[0m \u001b[0mstyle_01\u001b[0m\u001b[0;34m.\u001b[0m\u001b[0mplot_legend\u001b[0m\u001b[0;34m(\u001b[0m\u001b[0;34m)\u001b[0m\u001b[0;34m\u001b[0m\u001b[0;34m\u001b[0m\u001b[0m\n\u001b[1;32m     25\u001b[0m \u001b[0mplt\u001b[0m\u001b[0;34m.\u001b[0m\u001b[0mshow\u001b[0m\u001b[0;34m(\u001b[0m\u001b[0mfig\u001b[0m\u001b[0;34m)\u001b[0m\u001b[0;34m\u001b[0m\u001b[0;34m\u001b[0m\u001b[0m\n",
      "\u001b[0;32m~/opt/anaconda3/lib/python3.8/site-packages/pystrat/pystrat.py\u001b[0m in \u001b[0;36mplot_stratigraphy\u001b[0;34m(section, style, ncols, linewidth, col_spacings, col_widths)\u001b[0m\n\u001b[1;32m    787\u001b[0m         \u001b[0;31m# create the rectangle\u001b[0m\u001b[0;34m\u001b[0m\u001b[0;34m\u001b[0m\u001b[0;34m\u001b[0m\u001b[0m\n\u001b[1;32m    788\u001b[0m         ax0.add_patch(Rectangle((0.0,strat_height), this_width, this_thickness,\n\u001b[0;32m--> 789\u001b[0;31m                       facecolor=this_color, edgecolor='k', linewidth=linewidth))\n\u001b[0m\u001b[1;32m    790\u001b[0m \u001b[0;34m\u001b[0m\u001b[0m\n\u001b[1;32m    791\u001b[0m         \u001b[0;31m# count the stratigraphic height\u001b[0m\u001b[0;34m\u001b[0m\u001b[0;34m\u001b[0m\u001b[0;34m\u001b[0m\u001b[0m\n",
      "\u001b[0;31mUnboundLocalError\u001b[0m: local variable 'this_color' referenced before assignment"
     ]
    },
    {
     "data": {
      "image/png": "[encoded data removed]",
      "text/plain": [
       "<Figure size 432x288 with 1 Axes>"
      ]
     },
     "metadata": {
      "needs_background": "light"
     },
     "output_type": "display_data"
    }
   ],
   "source": [
    "# read in your lithostratigraphy data\n",
    "litho = pd.read_csv('../data/pystrat/berkeley_hills_lithostratigraphy.csv')\n",
    "\n",
    "# read in your styling files\n",
    "color_style = pd.read_csv('../data/pystrat/berkeley_hills_color-style.csv')\n",
    "width_style = pd.read_csv('../data/pystrat/berkeley_hills_width-style.csv')\n",
    "\n",
    "# # read geochronology samples\n",
    "# geochron = pd.read_csv('../data/pystrat/berkeley_hills_pystrat_geochronology.csv')\n",
    "# geochron.head()\n",
    "\n",
    "# create a pystrat Section from the lithostratigraphy data\n",
    "section_01 = pystrat.Section(litho['THICKNESS'], litho['FACIES'])\n",
    "# section_01.add_data_attribute('ages', geochron['SAMPLE_HEIGHT'], geochron['SAMPLE_AGE'])\n",
    "# section_01.ages.add_height_attribute('sample', geochron['SAMPLE_NAME'])\n",
    "\n",
    "# create a pystrat Style from the styling files\n",
    "style_01 = pystrat.Style('facies',color_style['COLOR'],color_style[['r','g','b']]/255,\n",
    "                         'facies',width_style['FACIES'],width_style['width'],\n",
    "                         1, 3)\n",
    "\n",
    "# plot the Section using the Style\n",
    "fig, ax = pystrat.plot_stratigraphy(section_01, style_01)\n",
    "fig, ax = style_01.plot_legend()\n",
    "plt.show(fig)"
   ]
  },
  {
   "cell_type": "code",
   "execution_count": 33,
   "metadata": {},
   "outputs": [
    {
     "ename": "UnboundLocalError",
     "evalue": "local variable 'this_color' referenced before assignment",
     "output_type": "error",
     "traceback": [
      "\u001b[0;31m---------------------------------------------------------------------------\u001b[0m",
      "\u001b[0;31mUnboundLocalError\u001b[0m                         Traceback (most recent call last)",
      "\u001b[0;32m<ipython-input-33-847a9245fa74>\u001b[0m in \u001b[0;36m<module>\u001b[0;34m\u001b[0m\n\u001b[1;32m     21\u001b[0m \u001b[0;34m\u001b[0m\u001b[0m\n\u001b[1;32m     22\u001b[0m \u001b[0;31m# plot the Section using the Style\u001b[0m\u001b[0;34m\u001b[0m\u001b[0;34m\u001b[0m\u001b[0;34m\u001b[0m\u001b[0m\n\u001b[0;32m---> 23\u001b[0;31m \u001b[0mfig\u001b[0m\u001b[0;34m,\u001b[0m \u001b[0max\u001b[0m \u001b[0;34m=\u001b[0m \u001b[0mpystrat\u001b[0m\u001b[0;34m.\u001b[0m\u001b[0mplot_stratigraphy\u001b[0m\u001b[0;34m(\u001b[0m\u001b[0msection_01\u001b[0m\u001b[0;34m,\u001b[0m \u001b[0mstyle_01\u001b[0m\u001b[0;34m)\u001b[0m\u001b[0;34m\u001b[0m\u001b[0;34m\u001b[0m\u001b[0m\n\u001b[0m\u001b[1;32m     24\u001b[0m \u001b[0mplt\u001b[0m\u001b[0;34m.\u001b[0m\u001b[0mshow\u001b[0m\u001b[0;34m(\u001b[0m\u001b[0mfig\u001b[0m\u001b[0;34m)\u001b[0m\u001b[0;34m\u001b[0m\u001b[0;34m\u001b[0m\u001b[0m\n",
      "\u001b[0;32m~/opt/anaconda3/lib/python3.8/site-packages/pystrat/pystrat.py\u001b[0m in \u001b[0;36mplot_stratigraphy\u001b[0;34m(section, style, ncols, linewidth, col_spacings, col_widths)\u001b[0m\n\u001b[1;32m    787\u001b[0m         \u001b[0;31m# create the rectangle\u001b[0m\u001b[0;34m\u001b[0m\u001b[0;34m\u001b[0m\u001b[0;34m\u001b[0m\u001b[0m\n\u001b[1;32m    788\u001b[0m         ax0.add_patch(Rectangle((0.0,strat_height), this_width, this_thickness,\n\u001b[0;32m--> 789\u001b[0;31m                       facecolor=this_color, edgecolor='k', linewidth=linewidth))\n\u001b[0m\u001b[1;32m    790\u001b[0m \u001b[0;34m\u001b[0m\u001b[0m\n\u001b[1;32m    791\u001b[0m         \u001b[0;31m# count the stratigraphic height\u001b[0m\u001b[0;34m\u001b[0m\u001b[0;34m\u001b[0m\u001b[0;34m\u001b[0m\u001b[0m\n",
      "\u001b[0;31mUnboundLocalError\u001b[0m: local variable 'this_color' referenced before assignment"
     ]
    },
    {
     "data": {
      "image/png": "[encoded data removed]",
      "text/plain": [
       "<Figure size 432x288 with 1 Axes>"
      ]
     },
     "metadata": {
      "needs_background": "light"
     },
     "output_type": "display_data"
    }
   ],
   "source": [
    "# read in your lithostratigraphy data\n",
    "litho = pd.read_csv('../data/pystrat/berkeley_hills_lithostratigraphy.csv')\n",
    "\n",
    "# read in your styling files\n",
    "color_style = pd.read_csv('../data/pystrat/berkeley_hills_color-style.csv')\n",
    "width_style = pd.read_csv('../data/pystrat/berkeley_hills_width-style.csv')\n",
    "\n",
    "# read geochronology samples\n",
    "# geochron = pd.read_csv('../data/pystrat/berkeley_hills_pystrat_geochronology.csv')\n",
    "# geochron.head()\n",
    "\n",
    "# create a pystrat Section from the lithostratigraphy data\n",
    "section_01 = pystrat.Section(litho['THICKNESS'], litho['FACIES'])\n",
    "# section_01.add_data_attribute('ages',geochron['SAMPLE_NAME'], geochron['SAMPLE_HEIGHT'])\n",
    "# section_01.ages.add_height_attribute('sample', geochron['SAMPLE_NAME'])\n",
    "\n",
    "# create a pystrat Style from the styling files\n",
    "style_01 = pystrat.Style('facies',color_style['COLOR'],color_style[['r','g','b']]/255,\n",
    "                         'facies',width_style['FACIES'],width_style['width'],\n",
    "                         0.075, 1)\n",
    "\n",
    "# plot the Section using the Style\n",
    "fig, ax = pystrat.plot_stratigraphy(section_01, style_01)\n",
    "plt.show(fig)"
   ]
  },
  {
   "cell_type": "code",
   "execution_count": null,
   "metadata": {},
   "outputs": [],
   "source": []
  },
  {
   "cell_type": "code",
   "execution_count": null,
   "metadata": {},
   "outputs": [],
   "source": []
  }
 ],
 "metadata": {
  "kernelspec": {
   "display_name": "Python 3",
   "language": "python",
   "name": "python3"
  },
  "language_info": {
   "codemirror_mode": {
    "name": "ipython",
    "version": 3
   },
   "file_extension": ".py",
   "mimetype": "text/x-python",
   "name": "python",
   "nbconvert_exporter": "python",
   "pygments_lexer": "ipython3",
   "version": "3.8.5"
  }
 },
 "nbformat": 4,
 "nbformat_minor": 4
}
