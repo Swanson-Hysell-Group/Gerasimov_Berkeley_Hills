{
 "cells": [
  {
   "cell_type": "markdown",
   "metadata": {},
   "source": [
    "## Composite stratigraphic section for the Berkeley Hills\n",
    "\n",
    "This notebook plots a stratigraphic section of the Berkeley Hills at Highway 24 using the package \"pystrat\"  by Yuem Park.\n",
    "\n",
    "The thickness of each formation was determined through a combination of methods and data sources. The thickness of the Sobrante Fm and Claremont Fm was entirely approximated using Caldecott Tunnel bore hole data (Powell et al., 2019). These thicknesses are uncertain as there is tight folding within the Claremont Formation. The Orinda Fm was estimated using a combination of Caldecott Tunnel bore hole data and measured sections beginning 4 meters above the fourth tunnel entrance to the east. The Moraga Fm was measured from the contact with the Orinda Fm until the 10 meter Moraga Tuff. The rest of the Moraga Fm, as well as the Siesta Fm and Bald Peak Fm were approximated using trigonometry calculations. "
   ]
  },
  {
   "cell_type": "markdown",
   "metadata": {},
   "source": [
    "## Install pystrat\n",
    "If you do not have pystrat installed, running the code cell below will install it:"
   ]
  },
  {
   "cell_type": "code",
   "execution_count": 1,
   "metadata": {},
   "outputs": [
    {
     "name": "stdout",
     "output_type": "stream",
     "text": [
      "Requirement already satisfied: pystrat in /Users/staceygerasimov/opt/anaconda3/lib/python3.8/site-packages (1.0.0)\r\n"
     ]
    }
   ],
   "source": [
    "!pip install pystrat"
   ]
  },
  {
   "cell_type": "markdown",
   "metadata": {},
   "source": [
    "## Import pystrat and other scientific python packages"
   ]
  },
  {
   "cell_type": "code",
   "execution_count": 2,
   "metadata": {},
   "outputs": [],
   "source": [
    "# standard modules\n",
    "import pandas as pd\n",
    "import numpy as np\n",
    "import matplotlib.pyplot as plt\n",
    "\n",
    "# pystrat\n",
    "from pystrat import pystrat"
   ]
  },
  {
   "cell_type": "markdown",
   "metadata": {},
   "source": [
    "## Plot Stratigraphic Section and Geochronology Samples"
   ]
  },
  {
   "cell_type": "code",
   "execution_count": 3,
   "metadata": {},
   "outputs": [],
   "source": [
    "# read in your lithostratigraphy data\n",
    "litho = pd.read_csv('../data/pystrat/lithostratigraphy.csv')\n",
    "\n",
    "# read in your styling files\n",
    "color_style = pd.read_csv('../data/pystrat/color-style.csv')\n",
    "width_style = pd.read_csv('../data/pystrat/width-style.csv')\n",
    "\n",
    "geochron = pd.read_csv('../data/pystrat/geochronology.csv')"
   ]
  },
  {
   "cell_type": "code",
   "execution_count": 4,
   "metadata": {},
   "outputs": [
    {
     "data": {
      "text/html": [
       "<div>\n",
       "<style scoped>\n",
       "    .dataframe tbody tr th:only-of-type {\n",
       "        vertical-align: middle;\n",
       "    }\n",
       "\n",
       "    .dataframe tbody tr th {\n",
       "        vertical-align: top;\n",
       "    }\n",
       "\n",
       "    .dataframe thead th {\n",
       "        text-align: right;\n",
       "    }\n",
       "</style>\n",
       "<table border=\"1\" class=\"dataframe\">\n",
       "  <thead>\n",
       "    <tr style=\"text-align: right;\">\n",
       "      <th></th>\n",
       "      <th>LITHOLOGY</th>\n",
       "      <th>THICKNESS</th>\n",
       "      <th>FACIES</th>\n",
       "    </tr>\n",
       "  </thead>\n",
       "  <tbody>\n",
       "    <tr>\n",
       "      <th>0</th>\n",
       "      <td>Sobrante</td>\n",
       "      <td>168.3</td>\n",
       "      <td>Sobrante</td>\n",
       "    </tr>\n",
       "    <tr>\n",
       "      <th>1</th>\n",
       "      <td>Claremont</td>\n",
       "      <td>522.5</td>\n",
       "      <td>Claremont</td>\n",
       "    </tr>\n",
       "    <tr>\n",
       "      <th>2</th>\n",
       "      <td>Orinda</td>\n",
       "      <td>728.6</td>\n",
       "      <td>Orinda</td>\n",
       "    </tr>\n",
       "    <tr>\n",
       "      <th>3</th>\n",
       "      <td>Moraga</td>\n",
       "      <td>149.0</td>\n",
       "      <td>Moraga</td>\n",
       "    </tr>\n",
       "    <tr>\n",
       "      <th>4</th>\n",
       "      <td>Moraga Tuff</td>\n",
       "      <td>10.0</td>\n",
       "      <td>Moraga Tuff</td>\n",
       "    </tr>\n",
       "    <tr>\n",
       "      <th>5</th>\n",
       "      <td>Moraga</td>\n",
       "      <td>277.9</td>\n",
       "      <td>Moraga</td>\n",
       "    </tr>\n",
       "    <tr>\n",
       "      <th>6</th>\n",
       "      <td>Siesta</td>\n",
       "      <td>94.7</td>\n",
       "      <td>Siesta</td>\n",
       "    </tr>\n",
       "    <tr>\n",
       "      <th>7</th>\n",
       "      <td>Bald Peak</td>\n",
       "      <td>47.7</td>\n",
       "      <td>Bald Peak</td>\n",
       "    </tr>\n",
       "  </tbody>\n",
       "</table>\n",
       "</div>"
      ],
      "text/plain": [
       "     LITHOLOGY  THICKNESS       FACIES\n",
       "0     Sobrante      168.3     Sobrante\n",
       "1    Claremont      522.5    Claremont\n",
       "2       Orinda      728.6       Orinda\n",
       "3       Moraga      149.0       Moraga\n",
       "4  Moraga Tuff       10.0  Moraga Tuff\n",
       "5       Moraga      277.9       Moraga\n",
       "6       Siesta       94.7       Siesta\n",
       "7    Bald Peak       47.7    Bald Peak"
      ]
     },
     "execution_count": 4,
     "metadata": {},
     "output_type": "execute_result"
    }
   ],
   "source": [
    "litho"
   ]
  },
  {
   "cell_type": "code",
   "execution_count": 5,
   "metadata": {},
   "outputs": [
    {
     "data": {
      "text/html": [
       "<div>\n",
       "<style scoped>\n",
       "    .dataframe tbody tr th:only-of-type {\n",
       "        vertical-align: middle;\n",
       "    }\n",
       "\n",
       "    .dataframe tbody tr th {\n",
       "        vertical-align: top;\n",
       "    }\n",
       "\n",
       "    .dataframe thead th {\n",
       "        text-align: right;\n",
       "    }\n",
       "</style>\n",
       "<table border=\"1\" class=\"dataframe\">\n",
       "  <thead>\n",
       "    <tr style=\"text-align: right;\">\n",
       "      <th></th>\n",
       "      <th>SAMPLE_NAME</th>\n",
       "      <th>SAMPLE_HEIGHT</th>\n",
       "      <th>X_PLOT</th>\n",
       "      <th>SAMPLE_AGE</th>\n",
       "      <th>SAMPLE_AGE_2SIGMA</th>\n",
       "    </tr>\n",
       "  </thead>\n",
       "  <tbody>\n",
       "    <tr>\n",
       "      <th>0</th>\n",
       "      <td>CSUF-4</td>\n",
       "      <td>681.77</td>\n",
       "      <td>1.0</td>\n",
       "      <td>NaN</td>\n",
       "      <td>NaN</td>\n",
       "    </tr>\n",
       "    <tr>\n",
       "      <th>1</th>\n",
       "      <td>JG-BH5</td>\n",
       "      <td>1331.53</td>\n",
       "      <td>1.0</td>\n",
       "      <td>NaN</td>\n",
       "      <td>NaN</td>\n",
       "    </tr>\n",
       "    <tr>\n",
       "      <th>2</th>\n",
       "      <td>OR24-2</td>\n",
       "      <td>1732.01</td>\n",
       "      <td>1.9</td>\n",
       "      <td>NaN</td>\n",
       "      <td>NaN</td>\n",
       "    </tr>\n",
       "    <tr>\n",
       "      <th>3</th>\n",
       "      <td>OR24-1</td>\n",
       "      <td>1733.21</td>\n",
       "      <td>1.0</td>\n",
       "      <td>NaN</td>\n",
       "      <td>NaN</td>\n",
       "    </tr>\n",
       "    <tr>\n",
       "      <th>4</th>\n",
       "      <td>MV24-1</td>\n",
       "      <td>1784.91</td>\n",
       "      <td>1.0</td>\n",
       "      <td>NaN</td>\n",
       "      <td>NaN</td>\n",
       "    </tr>\n",
       "    <tr>\n",
       "      <th>5</th>\n",
       "      <td>MT24-1</td>\n",
       "      <td>1894.36</td>\n",
       "      <td>1.0</td>\n",
       "      <td>NaN</td>\n",
       "      <td>NaN</td>\n",
       "    </tr>\n",
       "    <tr>\n",
       "      <th>6</th>\n",
       "      <td>EBH15/BHR-1</td>\n",
       "      <td>1894.36</td>\n",
       "      <td>1.9</td>\n",
       "      <td>NaN</td>\n",
       "      <td>NaN</td>\n",
       "    </tr>\n",
       "    <tr>\n",
       "      <th>7</th>\n",
       "      <td>SFM-1</td>\n",
       "      <td>2182.24</td>\n",
       "      <td>1.0</td>\n",
       "      <td>NaN</td>\n",
       "      <td>NaN</td>\n",
       "    </tr>\n",
       "  </tbody>\n",
       "</table>\n",
       "</div>"
      ],
      "text/plain": [
       "   SAMPLE_NAME  SAMPLE_HEIGHT  X_PLOT  SAMPLE_AGE  SAMPLE_AGE_2SIGMA\n",
       "0       CSUF-4         681.77     1.0         NaN                NaN\n",
       "1       JG-BH5        1331.53     1.0         NaN                NaN\n",
       "2       OR24-2        1732.01     1.9         NaN                NaN\n",
       "3       OR24-1        1733.21     1.0         NaN                NaN\n",
       "4       MV24-1        1784.91     1.0         NaN                NaN\n",
       "5       MT24-1        1894.36     1.0         NaN                NaN\n",
       "6  EBH15/BHR-1        1894.36     1.9         NaN                NaN\n",
       "7        SFM-1        2182.24     1.0         NaN                NaN"
      ]
     },
     "execution_count": 5,
     "metadata": {},
     "output_type": "execute_result"
    }
   ],
   "source": [
    "geochron"
   ]
  },
  {
   "cell_type": "code",
   "execution_count": 6,
   "metadata": {},
   "outputs": [
    {
     "data": {
      "image/png": "[encoded data removed]",
      "text/plain": [
       "<Figure size 252x575.672 with 2 Axes>"
      ]
     },
     "metadata": {
      "needs_background": "light"
     },
     "output_type": "display_data"
    }
   ],
   "source": [
    "# create a pystrat Section from the lithostratigraphy data\n",
    "section_01 = pystrat.Section(litho['THICKNESS'], litho['FACIES'])\n",
    "\n",
    "# create a pystrat Style from the styling files\n",
    "style_01 = pystrat.Style('facies',color_style['COLOR'],color_style[['r','g','b']]/255,\n",
    "                         'facies',width_style['FACIES'],width_style['width'],\n",
    "                         0.0035, 1)\n",
    "\n",
    "# plot the Section using the Style\n",
    "fig, ax = pystrat.plot_stratigraphy(section_01, style_01, ncols=2)\n",
    "\n",
    "ax[1].scatter(geochron['X_PLOT'],geochron['SAMPLE_HEIGHT'])\n",
    "ax[1].axis('off')\n",
    "ax[1].set_xlim(0.8,2)\n",
    "\n",
    "for i, label in enumerate(geochron['SAMPLE_NAME']):\n",
    "    plt.text(geochron['X_PLOT'][i]+0.1, geochron['SAMPLE_HEIGHT'][i],label,verticalalignment='center')\n",
    "\n",
    "plt.savefig('./Output/composite_strat.pdf')\n",
    "plt.show(fig)"
   ]
  },
  {
   "cell_type": "code",
   "execution_count": 7,
   "metadata": {},
   "outputs": [
    {
     "name": "stdout",
     "output_type": "stream",
     "text": [
      "stratigraphic height scaling : 1 distance unit = 1 inch * 0.0035\n",
      "width value of 1 will be     : 1 inches\n"
     ]
    },
    {
     "data": {
      "image/png": "[encoded data removed]",
      "text/plain": [
       "<Figure size 144x216 with 1 Axes>"
      ]
     },
     "metadata": {
      "needs_background": "light"
     },
     "output_type": "display_data"
    }
   ],
   "source": [
    "fig, ax = style_01.plot_legend()\n",
    "\n",
    "plt.show(fig)"
   ]
  }
 ],
 "metadata": {
  "kernelspec": {
   "display_name": "Python 3",
   "language": "python",
   "name": "python3"
  },
  "language_info": {
   "codemirror_mode": {
    "name": "ipython",
    "version": 3
   },
   "file_extension": ".py",
   "mimetype": "text/x-python",
   "name": "python",
   "nbconvert_exporter": "python",
   "pygments_lexer": "ipython3",
   "version": "3.8.5"
  }
 },
 "nbformat": 4,
 "nbformat_minor": 4
}
